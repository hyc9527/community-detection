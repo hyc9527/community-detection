{
 "cells": [
  {
   "cell_type": "code",
   "execution_count": 1,
   "metadata": {},
   "outputs": [],
   "source": [
    "import numpy as np\n",
    "from scipy import sparse\n",
    "import networkx as nx\n",
    "from networkx.drawing.nx_agraph import graphviz_layout\n",
    "import matplotlib.pyplot as plt\n",
    "import csv"
   ]
  },
  {
   "cell_type": "code",
   "execution_count": 2,
   "metadata": {},
   "outputs": [],
   "source": [
    "# import user-subreddit post behavior\n",
    "accounts = {}\n",
    "with open('data/reddit-user-posting-behavior.csv') as csvfile:\n",
    "    reader = csv.reader(csvfile)\n",
    "    idx = 0\n",
    "    for row in reader:\n",
    "        accounts[idx] = list(set(row[1:]))\n",
    "        idx += 1"
   ]
  },
  {
   "cell_type": "code",
   "execution_count": 3,
   "metadata": {},
   "outputs": [
    {
     "name": "stdout",
     "output_type": "stream",
     "text": [
      "Total subreddits: 15122\n"
     ]
    }
   ],
   "source": [
    "# get unique subreddits\n",
    "subreddits = list(set([v for values in accounts.values() for v in values]))\n",
    "\n",
    "# map subreddits to index mappings\n",
    "subidx = {}\n",
    "idx_to_sub = {}\n",
    "for i in range(len(subreddits)):\n",
    "    subidx[subreddits[i]] = i\n",
    "    idx_to_sub[i] = subreddits[i]\n",
    "    \n",
    "# print total number of subreddits\n",
    "print('Total subreddits: {}'.format(len(subreddits)))"
   ]
  },
  {
   "cell_type": "code",
   "execution_count": 4,
   "metadata": {},
   "outputs": [],
   "source": [
    "# prepare sparse cols and rows\n",
    "row = []\n",
    "col = []\n",
    "for user,sublist in accounts.items():\n",
    "    for sub in sublist:\n",
    "        row.append(subidx[sub])\n",
    "        col.append(user)\n",
    "\n",
    "# build subreddit-user relation matrix\n",
    "submat = sparse.csr_matrix((np.ones(len(row)),(row,col)))\n",
    "\n",
    "# create final subreddit-subreddit realtions\n",
    "srs = submat*submat.T"
   ]
  },
  {
   "cell_type": "code",
   "execution_count": 5,
   "metadata": {},
   "outputs": [],
   "source": [
    "# strip small degree\n",
    "pmat = srs.toarray()\n",
    "#pmat[pmat < 100] = 0\n",
    "\n",
    "# build percentage matrix\n",
    "diag = 1/srs.diagonal()\n",
    "pmat = np.multiply(pmat,diag.reshape((-1,1)))\n",
    "\n",
    "# threshold percentages\n",
    "pmat[pmat < 0.05] = 0\n",
    "\n",
    "# remove edges that are only one-sided\n",
    "pmat = np.multiply(pmat, pmat.T)\n",
    "pmat = pmat > 0"
   ]
  },
  {
   "cell_type": "code",
   "execution_count": 6,
   "metadata": {},
   "outputs": [],
   "source": [
    "# create graph\n",
    "G = nx.from_numpy_matrix(pmat, create_using=nx.Graph())\n",
    "\n",
    "# relabel nodes\n",
    "G = nx.relabel_nodes(G, idx_to_sub)\n",
    "\n",
    "# remove isolates and self edges\n",
    "G.remove_edges_from(list(G.selfloop_edges()))\n",
    "G.remove_nodes_from(list(nx.isolates(G)))\n",
    "\n",
    "# compute graph layout\n",
    "# (only uncomment if graph has been clipped)\n",
    "#pos = graphviz_layout(G)\n",
    "\n",
    "# plot the network\n",
    "#plt.figure(figsize=(20,14))\n",
    "#nx.draw_networkx(G, pos=pos)"
   ]
  },
  {
   "cell_type": "code",
   "execution_count": 7,
   "metadata": {},
   "outputs": [],
   "source": [
    "# recursive modularity maximization\n",
    "def modularity_max(G, k):\n",
    "    # base case\n",
    "    if k == 1:\n",
    "        return [G]\n",
    "    \n",
    "    # compute graph modularity matrix\n",
    "    B = nx.modularity_matrix(G)\n",
    "\n",
    "    # find leading eigenvector of B\n",
    "    evals = []\n",
    "    evecs = []\n",
    "    \n",
    "    try:\n",
    "        evals,evecs = sparse.linalg.eigs(sparse.csr_matrix(B))\n",
    "    except TypeError:\n",
    "        evals,evecs = np.linalg.eig(B)\n",
    "    \n",
    "    le = evecs[:,np.argmax(evals)]\n",
    "\n",
    "    # split graph based on leading eigenvector\n",
    "    nodes = np.array(G.nodes)\n",
    "    n1 = np.where(le >= 0)[0]\n",
    "    n2 = np.where(le < 0)[0]\n",
    "    g1 = G.subgraph(nodes[n1])\n",
    "    g2 = G.subgraph(nodes[n2])\n",
    "    \n",
    "    # return split graph\n",
    "    if k == 2:\n",
    "        return [g1,g2]\n",
    "    \n",
    "    # make recursive calls to continue partitioning\n",
    "    if k > 2:\n",
    "        m1 = modularity_max(g1,np.ceil(k/2))\n",
    "        m2 = modularity_max(g2,np.floor(k/2))\n",
    "        return [*m1,*m2]"
   ]
  },
  {
   "cell_type": "code",
   "execution_count": 8,
   "metadata": {},
   "outputs": [],
   "source": [
    "# find largest connected component\n",
    "cc = [G.subgraph(c) for c in sorted(nx.connected_components(G), key=len, reverse=True)][0]\n",
    "\n",
    "# perform community detection\n",
    "mm = modularity_max(cc,20)\n",
    "\n",
    "# assign colors to nodes based on their community\n",
    "colors = ['aqua','blue','coral','crimson','cyan','fuchsia','green','grey','indigo','lightblue','lime','magenta','orangered','pink','teal','violet','yellow','olive','maroon','khaki']\n",
    "node_colors = {}\n",
    "for i in range(len(mm)):\n",
    "    subgraph = mm[i]\n",
    "    for node in subgraph.nodes:\n",
    "        node_colors[node] = colors[i]\n",
    "        \n",
    "d = sorted(node_colors.items(), key=lambda pair: list(cc.nodes).index(pair[0]))\n",
    "d = [n[1] for n in d]\n",
    "\n",
    "# calculate pos layout\n",
    "# (only uncomment if graph has been clipped)\n",
    "#pos = graphviz_layout(cc)\n",
    "\n",
    "# plot the comunities\n",
    "#plt.figure(figsize=(20,14))\n",
    "#nx.draw_networkx(cc, node_color=d, pos=pos)"
   ]
  },
  {
   "cell_type": "code",
   "execution_count": 10,
   "metadata": {},
   "outputs": [],
   "source": [
    "# set color attributes\n",
    "nx.set_node_attributes(cc, node_colors, 'color')\n",
    "\n",
    "# write graph to .gexf file\n",
    "#nx.write_gexf(G,'graphs/n0p5mm_color20.gexf')"
   ]
  }
 ],
 "metadata": {
  "kernelspec": {
   "display_name": "Python 3",
   "language": "python",
   "name": "python3"
  },
  "language_info": {
   "codemirror_mode": {
    "name": "ipython",
    "version": 3
   },
   "file_extension": ".py",
   "mimetype": "text/x-python",
   "name": "python",
   "nbconvert_exporter": "python",
   "pygments_lexer": "ipython3",
   "version": "3.6.3"
  }
 },
 "nbformat": 4,
 "nbformat_minor": 2
}
